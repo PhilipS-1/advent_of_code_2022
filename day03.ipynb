{
 "cells": [
  {
   "cell_type": "markdown",
   "metadata": {},
   "source": [
    "# day 3"
   ]
  },
  {
   "cell_type": "code",
   "execution_count": 53,
   "metadata": {},
   "outputs": [
    {
     "name": "stdout",
     "output_type": "stream",
     "text": [
      "part1:  8072\n",
      "part2:  2567\n"
     ]
    }
   ],
   "source": [
    "# part1\n",
    "import string\n",
    "\n",
    "with open(\"inputs/day03.txt\", \"r\") as file:\n",
    "    input = file.read().split(\"\\n\")\n",
    "compartments = [(line[:int(len(line)/2)], line[int(len(line)/2):]) for line in input]\n",
    "\n",
    "priority = {}\n",
    "for i, char in enumerate(string.ascii_lowercase):\n",
    "    priority[char] = i + 1\n",
    "for i, char in enumerate(string.ascii_uppercase):\n",
    "    priority[char] = i + 27\n",
    "\n",
    "def calc( compartment : tuple[list[str], list[str]] ) -> tuple[str, int]:\n",
    "    left, right = compartment[0], compartment[1]\n",
    "    for char in left:\n",
    "        if char in right:\n",
    "            return (char, priority[char])\n",
    "\n",
    "solution1 = sum([b for (a,b) in list(map(calc, compartments))])\n",
    "print(\"part1: \", solution1)\n",
    "\n",
    "#part 2\n",
    "groups = [input[i:i+3] for i in range(0, len(input), 3)]\n",
    "\n",
    "def calc2(group: list[str]) -> int:\n",
    "    for char in group[0]:\n",
    "        if char in group[1] and char in group[2]:\n",
    "            return priority[char]\n",
    "\n",
    "solution2 = sum(list(map(calc2, groups)))\n",
    "print(\"part2: \", solution2)"
   ]
  }
 ],
 "metadata": {
  "kernelspec": {
   "display_name": "Python 3.9.13 64-bit",
   "language": "python",
   "name": "python3"
  },
  "language_info": {
   "codemirror_mode": {
    "name": "ipython",
    "version": 3
   },
   "file_extension": ".py",
   "mimetype": "text/x-python",
   "name": "python",
   "nbconvert_exporter": "python",
   "pygments_lexer": "ipython3",
   "version": "3.9.13"
  },
  "orig_nbformat": 4,
  "vscode": {
   "interpreter": {
    "hash": "52fcb49ca51edcae06163c22745fa58bc2bb07c8148a8dd951234e1ef7ab963e"
   }
  }
 },
 "nbformat": 4,
 "nbformat_minor": 2
}
