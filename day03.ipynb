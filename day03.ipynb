{
 "cells": [
  {
   "cell_type": "markdown",
   "metadata": {},
   "source": [
    "# day 3"
   ]
  },
  {
   "cell_type": "code",
   "execution_count": 60,
   "metadata": {},
   "outputs": [
    {
     "name": "stdout",
     "output_type": "stream",
     "text": [
      "{'a': 1, 'b': 2, 'c': 3, 'd': 4, 'e': 5, 'f': 6, 'g': 7, 'h': 8, 'i': 9, 'j': 10, 'k': 11, 'l': 12, 'm': 13, 'n': 14, 'o': 15, 'p': 16, 'q': 17, 'r': 18, 's': 19, 't': 20, 'u': 21, 'v': 22, 'w': 23, 'x': 24, 'y': 25, 'z': 26, 'A': 27, 'B': 28, 'C': 29, 'D': 30, 'E': 31, 'F': 32, 'G': 33, 'H': 34, 'I': 35, 'J': 36, 'K': 37, 'L': 38, 'M': 39, 'N': 40, 'O': 41, 'P': 42, 'Q': 43, 'R': 44, 'S': 45, 'T': 46, 'U': 47, 'V': 48, 'W': 49, 'X': 50, 'Y': 51, 'Z': 52}\n",
      "part1:  8072\n",
      "part2:  2567\n"
     ]
    }
   ],
   "source": [
    "# part1\n",
    "import string\n",
    "\n",
    "with open(\"inputs/day03.txt\", \"r\") as file:\n",
    "    input = file.read().split(\"\\n\")\n",
    "compartments = [(line[:int(len(line)/2)], line[int(len(line)/2):]) for line in input]\n",
    "\n",
    "priority = {char : i + 1 for (i,char) in enumerate(string.ascii_lowercase + string.ascii_uppercase)}\n",
    "\n",
    "def calc( compartment : tuple[list[str], list[str]] ) -> int:\n",
    "    left, right = compartment[0], compartment[1]\n",
    "    for char in left:\n",
    "        if char in right:\n",
    "            return priority[char]\n",
    "\n",
    "solution1 = sum(map(calc, compartments))\n",
    "print(\"part1: \", solution1)\n",
    "\n",
    "#part 2\n",
    "groups = [input[i:i+3] for i in range(0, len(input), 3)]\n",
    "\n",
    "def calc2(group: list[str]) -> int:\n",
    "    for char in group[0]:\n",
    "        if char in group[1] and char in group[2]:\n",
    "            return priority[char]\n",
    "\n",
    "solution2 = sum(map(calc2, groups))\n",
    "print(\"part2: \", solution2)"
   ]
  }
 ],
 "metadata": {
  "kernelspec": {
   "display_name": "Python 3.9.13 64-bit",
   "language": "python",
   "name": "python3"
  },
  "language_info": {
   "codemirror_mode": {
    "name": "ipython",
    "version": 3
   },
   "file_extension": ".py",
   "mimetype": "text/x-python",
   "name": "python",
   "nbconvert_exporter": "python",
   "pygments_lexer": "ipython3",
   "version": "3.9.13"
  },
  "orig_nbformat": 4,
  "vscode": {
   "interpreter": {
    "hash": "52fcb49ca51edcae06163c22745fa58bc2bb07c8148a8dd951234e1ef7ab963e"
   }
  }
 },
 "nbformat": 4,
 "nbformat_minor": 2
}
