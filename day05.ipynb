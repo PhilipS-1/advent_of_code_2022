{
 "cells": [
  {
   "cell_type": "code",
   "execution_count": 11,
   "metadata": {},
   "outputs": [
    {
     "name": "stdout",
     "output_type": "stream",
     "text": [
      "FWSHSPJWM\n"
     ]
    }
   ],
   "source": [
    "#input formatting\n",
    "import copy\n",
    "\n",
    "with open(\"inputs/day05.txt\", \"r\") as f:\n",
    "    input = f.read().split(\"\\n\\n\")\n",
    "\n",
    "moves = [[w for w in line.split(\" \")] for line in input[1].split(\"\\n\")]\n",
    "stack_rows = [ x for x in input[0].split(\"\\n\")]\n",
    "stacks = [list(col) for col in zip(*stack_rows)]\n",
    "remove_list = [\" \", \"[\", \"]\", \",\"]\n",
    "stacks = [[ x for x in list[:-1] if x not in  remove_list] for list in stacks]\n",
    "stacks = [list[::-1] for list in stacks if list]\n",
    "\n",
    "#part1\n",
    "stacks1 = copy.deepcopy(stacks)\n",
    "for move in moves:\n",
    "    from_stack = int(move[3]) - 1\n",
    "    to_stack = int(move[5]) - 1\n",
    "    n = int(move[1])\n",
    "    stacks1[to_stack].extend(stacks1[from_stack][-n:][::-1])\n",
    "    stacks1[from_stack] = stacks1[from_stack][:-n]\n",
    "\n",
    "solution1 = \"\".join([stack[-1] for stack in stacks1])\n",
    "print(solution1)\n"
   ]
  },
  {
   "cell_type": "code",
   "execution_count": 12,
   "metadata": {},
   "outputs": [
    {
     "name": "stdout",
     "output_type": "stream",
     "text": [
      "PWPWHGFZS\n"
     ]
    }
   ],
   "source": [
    "#part2\n",
    "stacks2 = copy.deepcopy(stacks)\n",
    "\n",
    "for move in moves:\n",
    "    from_stack = int(move[3]) - 1\n",
    "    to_stack = int(move[5]) - 1\n",
    "    n = int(move[1])\n",
    "    stacks2[to_stack].extend(stacks2[from_stack][-n:])\n",
    "    stacks2[from_stack] = stacks2[from_stack][:-n]\n",
    "\n",
    "solution2 = \"\".join([stack[-1] for stack in stacks2])\n",
    "print(solution2)"
   ]
  },
  {
   "cell_type": "markdown",
   "metadata": {},
   "source": []
  },
  {
   "cell_type": "code",
   "execution_count": 53,
   "metadata": {},
   "outputs": [
    {
     "name": "stdout",
     "output_type": "stream",
     "text": [
      "[3, 2, 1]\n"
     ]
    }
   ],
   "source": [
    "#slicing\n",
    "#reverse list with slicing\n",
    "l = [1,2,3]\n",
    "r = l[::-1] #l[start:stop:step]\n",
    "print(r)"
   ]
  },
  {
   "cell_type": "code",
   "execution_count": 1,
   "metadata": {},
   "outputs": [
    {
     "name": "stdout",
     "output_type": "stream",
     "text": [
      "[3, 4]\n",
      "[1, 2]\n"
     ]
    }
   ],
   "source": [
    "#slicing wiht negative indices\n",
    "l = [1,2,3,4]\n",
    "#get 2 last elements:\n",
    "l = l[-2:] #from element -2 to end of list\n",
    "print(l)\n",
    "\n",
    "#remove 2 last elements:\n",
    "l = [1,2,3,4]\n",
    "l = l[:-2] #from start of list to elment -2 \n",
    "print(l)"
   ]
  }
 ],
 "metadata": {
  "kernelspec": {
   "display_name": "Python 3.9.13 64-bit",
   "language": "python",
   "name": "python3"
  },
  "language_info": {
   "codemirror_mode": {
    "name": "ipython",
    "version": 3
   },
   "file_extension": ".py",
   "mimetype": "text/x-python",
   "name": "python",
   "nbconvert_exporter": "python",
   "pygments_lexer": "ipython3",
   "version": "3.9.13"
  },
  "orig_nbformat": 4,
  "vscode": {
   "interpreter": {
    "hash": "52fcb49ca51edcae06163c22745fa58bc2bb07c8148a8dd951234e1ef7ab963e"
   }
  }
 },
 "nbformat": 4,
 "nbformat_minor": 2
}
