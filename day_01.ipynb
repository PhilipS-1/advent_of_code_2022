{
 "cells": [
  {
   "cell_type": "markdown",
   "metadata": {},
   "source": [
    "# day 1\n",
    "\n",
    "## star 1"
   ]
  },
  {
   "cell_type": "code",
   "execution_count": 16,
   "metadata": {},
   "outputs": [
    {
     "name": "stdout",
     "output_type": "stream",
     "text": [
      "72070\n"
     ]
    }
   ],
   "source": [
    "with open(\"inputs/day01.txt\", \"r\") as f:\n",
    "    input = f.read().split(\"\\n\\n\")\n",
    "input = [[int(x) for x in line.split()] for line in input]\n",
    "solution = max(list(map(sum, input)))\n",
    "print(solution)"
   ]
  },
  {
   "cell_type": "markdown",
   "metadata": {},
   "source": [
    "## star 2"
   ]
  },
  {
   "cell_type": "code",
   "execution_count": 17,
   "metadata": {},
   "outputs": [
    {
     "name": "stdout",
     "output_type": "stream",
     "text": [
      "211805\n"
     ]
    }
   ],
   "source": [
    "solution2 = sum(sorted(list(map(sum, input)))[-3:])\n",
    "print(solution2)"
   ]
  }
 ],
 "metadata": {
  "kernelspec": {
   "display_name": "Python 3",
   "language": "python",
   "name": "python3"
  },
  "language_info": {
   "codemirror_mode": {
    "name": "ipython",
    "version": 3
   },
   "file_extension": ".py",
   "mimetype": "text/x-python",
   "name": "python",
   "nbconvert_exporter": "python",
   "pygments_lexer": "ipython3",
   "version": "3.9.13 (tags/v3.9.13:6de2ca5, May 17 2022, 16:36:42) [MSC v.1929 64 bit (AMD64)]"
  },
  "orig_nbformat": 4,
  "vscode": {
   "interpreter": {
    "hash": "52fcb49ca51edcae06163c22745fa58bc2bb07c8148a8dd951234e1ef7ab963e"
   }
  }
 },
 "nbformat": 4,
 "nbformat_minor": 2
}
