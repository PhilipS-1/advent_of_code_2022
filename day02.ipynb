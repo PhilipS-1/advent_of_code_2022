{
 "cells": [
  {
   "cell_type": "markdown",
   "metadata": {},
   "source": [
    "# day2\n",
    "## star 1"
   ]
  },
  {
   "cell_type": "code",
   "execution_count": 22,
   "metadata": {},
   "outputs": [
    {
     "name": "stdout",
     "output_type": "stream",
     "text": [
      "13526\n"
     ]
    }
   ],
   "source": [
    "with open(\"inputs/day02.txt\", \"r\") as file:\n",
    "    input = file.read().split(\"\\n\")\n",
    "points = {'A Y': 6, 'A X': 3, 'B Z' : 6, 'B Y' : 3, 'C X' : 6, 'C Z' : 3, 'X': 1, 'Y' : 2, 'Z' : 3}\n",
    "solution1 = sum([ points.get(line, 0) + points[line[-1]] for line in input])\n",
    "print(solution1)"
   ]
  },
  {
   "cell_type": "code",
   "execution_count": 21,
   "metadata": {},
   "outputs": [
    {
     "name": "stdout",
     "output_type": "stream",
     "text": [
      "14204\n"
     ]
    }
   ],
   "source": [
    "#star 2\n",
    "win = {'A' : 'Y', 'B' : 'Z', 'C' : 'X'}\n",
    "draw = {'A' : 'X', 'B' : 'Y', 'C' : 'Z'}\n",
    "lose = {'A' : 'Z', 'B' : 'X', 'C' : 'Y'}\n",
    "points_game = {'X' : 0, 'Y' : 3, 'Z' : 6}\n",
    "points_choice = {'X' : 1, 'Y' : 2, 'Z' : 3}\n",
    "strat = {'X' : lose, 'Y' : draw, 'Z': win}\n",
    "\n",
    "solution2 = sum([points_choice[ strat[x][y] ] + points_game[x] for (x,y) in ( (line[-1],line[0]) for line in input )])\n",
    "print(solution2)\n"
   ]
  }
 ],
 "metadata": {
  "kernelspec": {
   "display_name": "Python 3.9.13 64-bit",
   "language": "python",
   "name": "python3"
  },
  "language_info": {
   "codemirror_mode": {
    "name": "ipython",
    "version": 3
   },
   "file_extension": ".py",
   "mimetype": "text/x-python",
   "name": "python",
   "nbconvert_exporter": "python",
   "pygments_lexer": "ipython3",
   "version": "3.9.13"
  },
  "orig_nbformat": 4,
  "vscode": {
   "interpreter": {
    "hash": "52fcb49ca51edcae06163c22745fa58bc2bb07c8148a8dd951234e1ef7ab963e"
   }
  }
 },
 "nbformat": 4,
 "nbformat_minor": 2
}
