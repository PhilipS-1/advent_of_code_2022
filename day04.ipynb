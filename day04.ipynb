{
 "cells": [
  {
   "cell_type": "markdown",
   "metadata": {},
   "source": [
    "# day 4"
   ]
  },
  {
   "cell_type": "code",
   "execution_count": 64,
   "metadata": {},
   "outputs": [
    {
     "name": "stdout",
     "output_type": "stream",
     "text": [
      "576\n",
      "905\n"
     ]
    }
   ],
   "source": [
    "#star 1\n",
    "\n",
    "with open(\"inputs/day04.txt\", \"r\") as f:\n",
    "    input = f.read().splitlines()\n",
    "\n",
    "assignments = [[list(map(int, x.split(\"-\"))) for x in line.split(\",\")] for line in input]\n",
    "solution1 = sum([1 if (a >= x and b <= y) or (a <= x and b >= y) else 0 for (a,b),(x,y) in assignments])\n",
    "\n",
    "print(solution1)\n",
    "\n",
    "solution2 = sum([1 if set(list(range(a, b+1))) & (set(list(range(x, y+1)))) else 0 for (a,b),(x,y) in assignments])\n",
    "print(solution2)\n",
    "\n"
   ]
  },
  {
   "cell_type": "code",
   "execution_count": 78,
   "metadata": {},
   "outputs": [
    {
     "name": "stdout",
     "output_type": "stream",
     "text": [
      "[6, 12]\n",
      "2\n",
      "3\n",
      "[6, 15]\n"
     ]
    }
   ],
   "source": [
    "#unpacking\n",
    "test = [a + b + c for (a,b,c) in [[1,2,3],[3,4,5]]]\n",
    "print(test)\n",
    "\n",
    "l = [1,2,3]\n",
    "(a,b,c) = l \n",
    "print(b)\n",
    "\n",
    "l2 = [[1,2],[2,3]]\n",
    "(a,b),(c,d) = l2 \n",
    "print(d)\n",
    "\n",
    "l3 = [[1,2,3],[4,5,6]]\n",
    "l4 = [a + b + c for a,b,c in l3]\n",
    "print(l4)"
   ]
  },
  {
   "cell_type": "code",
   "execution_count": 56,
   "metadata": {},
   "outputs": [
    {
     "name": "stdout",
     "output_type": "stream",
     "text": [
      "{3, 4}\n"
     ]
    }
   ],
   "source": [
    "#sets \n",
    "s1 = set([1,2,3,4])\n",
    "s2 = set([3, 4,5])\n",
    "\n",
    "#intersection of two sets:\n",
    "s3 = s1 & s2\n",
    "print(s3)\n"
   ]
  }
 ],
 "metadata": {
  "kernelspec": {
   "display_name": "Python 3.9.13 64-bit",
   "language": "python",
   "name": "python3"
  },
  "language_info": {
   "codemirror_mode": {
    "name": "ipython",
    "version": 3
   },
   "file_extension": ".py",
   "mimetype": "text/x-python",
   "name": "python",
   "nbconvert_exporter": "python",
   "pygments_lexer": "ipython3",
   "version": "3.9.13"
  },
  "orig_nbformat": 4,
  "vscode": {
   "interpreter": {
    "hash": "52fcb49ca51edcae06163c22745fa58bc2bb07c8148a8dd951234e1ef7ab963e"
   }
  }
 },
 "nbformat": 4,
 "nbformat_minor": 2
}
